{
 "cells": [
  {
   "cell_type": "markdown",
   "metadata": {
    "toc": true
   },
   "source": [
    "<h1>Table of Contents<span class=\"tocSkip\"></span></h1>\n",
    "<div class=\"toc\"><ul class=\"toc-item\"></ul></div>"
   ]
  },
  {
   "cell_type": "code",
   "execution_count": 1,
   "metadata": {},
   "outputs": [],
   "source": [
    "# Allows us to use various mathermatical functions\n",
    "import numpy as np\n",
    "#Allows us to plot functions and simulations\n",
    "import matplotlib.pyplot as plt\n",
    "#Allows us to define units precisely\n",
    "from astropy import units as u\n",
    "#Allows us to define constants precisely\n",
    "from astropy import constants as const\n",
    "import scipy"
   ]
  },
  {
   "cell_type": "markdown",
   "metadata": {},
   "source": [
    "# Coulomb Force"
   ]
  },
  {
   "cell_type": "markdown",
   "metadata": {},
   "source": [
    "### Define Electron and Ion Positions"
   ]
  },
  {
   "cell_type": "markdown",
   "metadata": {},
   "source": [
    "### Create Magnitude of Distance"
   ]
  },
  {
   "cell_type": "code",
   "execution_count": 3,
   "metadata": {},
   "outputs": [],
   "source": [
    "# def rx_hat(rx, Ion_rx):\n",
    "#     return np.sqrt(rx**2+Ion_rx**2)/ np.abs(rx)\n",
    "\n",
    "# def ry_hat(ry, Ion_ry):\n",
    "#     return np.sqrt(ry**2+Ion_ry**2)/ np.abs(ry)\n",
    "\n",
    "# mag_rx = np.sqrt(rx**2+Ion_rx**2)\n",
    "# mag_ry = np.sqrt(ry**2+Ion_ry**2)\n"
   ]
  },
  {
   "cell_type": "markdown",
   "metadata": {},
   "source": [
    "#### Define coulomb force, and create a definition for the force that will return the equations you want with specific parameters. In order to do this problem properly we have to use the difference in position of the electron and the ion at the origin. We also include a position vector that will track the normal of the change in radius."
   ]
  },
  {
   "cell_type": "code",
   "execution_count": 4,
   "metadata": {},
   "outputs": [
    {
     "name": "stdout",
     "output_type": "stream",
     "text": [
      "2.8497064928924285e-08 m\n",
      "2.8497064928924285e-08\n"
     ]
    }
   ],
   "source": [
    "#Test\n",
    "\n",
    "rxt = -500*const.a0\n",
    "ryt =  200*const.a0\n",
    "\n",
    "rt = [rxt.value, ryt.value]\n",
    "\n",
    "\n",
    "mag_rt = np.sqrt(rxt**2+ryt**2) #Magnitude of the Position\n",
    "mag_rtt = np.linalg.norm(rt)\n",
    "\n",
    "print(mag_rt)\n",
    "print(mag_rtt)"
   ]
  },
  {
   "cell_type": "code",
   "execution_count": 94,
   "metadata": {},
   "outputs": [],
   "source": [
    "#- mag of position\n",
    "#- mag of force\n",
    "\n",
    "#- mag of force times position vector\n",
    "\n",
    "#mag_r = np.sqrt(rx**2+ry**2) #Magnitude of the Position\n",
    "\n",
    "# r = [rx, ry] #Position Vector\n",
    "\n",
    "# We know the Coulomb Force is ((k * (q) * (+Z * q)) / r^2)\n",
    "# We need to find the magnitude of the force vector and then multiply \n",
    "# by the position vector\n",
    "\n",
    "\n",
    "def coulomb_x(rx_i, ry_i, q):\n",
    "    # Write out the colomb force energy equation\n",
    "    #Coulomb Force = ((k * (q) * (+Z * q)) / r^2)\n",
    "    #mag_r = np.sqrt(rx_i**2+ry_i**2)\n",
    "    mag_r = np.sqrt(np.square(rx_i) + np.square(ry_i))\n",
    "    #r_hat = position vector / magnitude of the position vector\n",
    "    Fc_vec = (((q) * (+Z*q)) / ((mag_r)**2))\n",
    "    #print('This is Fc',Fc_vec)\n",
    "    #print('This is mag_r',mag_r)\n",
    "    return Fc_vec * (rx_i/mag_r)\n",
    "\n",
    "def coulomb_y(rx_i, ry_i, q):\n",
    "    # Write out the colomb force energy equation\n",
    "    #Coulomb Force = ((k * (q) * (+Z * q)) / r^2)\n",
    "    mag_r = np.sqrt(rx_i**2+ry_i**2)\n",
    "    #r_hat = position vector / magnitude of the position vector\n",
    "    Fc_vec = (((q) * (+Z*q)) / ((mag_r)**2))\n",
    "    #print('This is Fc',Fc_vec)\n",
    "    #print('This is mag_r',mag_r)\n",
    "    return Fc_vec * (ry_i/mag_r)\n"
   ]
  },
  {
   "cell_type": "code",
   "execution_count": 6,
   "metadata": {
    "scrolled": true
   },
   "outputs": [],
   "source": [
    "# def coulomb(ry, rx, Ion_rx, Ion_ry, q, k):\n",
    "#     # Write out the colomb force energy equation\n",
    "#     dr_y = ry - 0\n",
    "#     dr_x = rx - 0\n",
    "#     r = [dr_x, dr_y]\n",
    "#     Fc = ((k * (q) * (+Z * q)) / ((np.linalg.norm(r))**3))#(np.sqrt((dr_x)**2+(dr_y)**2))**3)\n",
    "#     print('This is the force =', Fc)\n",
    "#     print(type(Fc))\n",
    "#     print(type(r))\n",
    "#     return  Fc* r\n",
    "\n",
    "\n",
    "\n",
    "# def coulomb(rx, ry, Ion_rx, Ion_ry, q, k):\n",
    "#     # Write out the colomb force energy equation\n",
    "#     dr_x = rx - Ion_rx\n",
    "#     dr_y = ry - Ion_ry\n",
    "#     r = [dr_x, dr_y]\n",
    "#     #dr_y = [ry-Ion_ry]\n",
    "#     return ((k * (q) * (+Z * q)) / (np.linalg.norm(r))**2) * (r/np.linalg.norm(r))\n",
    "\n",
    "# We know that F = (q)\n",
    "# r_hat = position vector / magnitude of the position\n",
    "\n",
    "# def coulomb(ry, rx, Ion_rx, Ion_ry, q, k):\n",
    "#     # Write out the colomb force energy equation\n",
    "#     dr_y = ry - 0\n",
    "#     dr_x = rx - 0\n",
    "#     r = [dr_x, dr_y]\n",
    "#     Fc = ((k * (q) * (+Z * q)) / ((np.linalg.norm(r))**3))#(np.sqrt((dr_x)**2+(dr_y)**2))**3)\n",
    "#     print('This is the force =', Fc)\n",
    "#     print(type(Fc))\n",
    "#     print(type(r))\n",
    "#     return  Fc* r\n",
    "\n",
    "# def coulomb_y(rx, ry, q, k)\n",
    "#     # Write out the colomb force energy equation\n",
    "#     dr_y = ry-Ion_ry\n",
    "#     return ((k * (q) * (+Z * q)) / (np.linalg.norm(ry-Ion_ry))**2) * (np.linalg.norm(ry-Ion_ry)/ry-Ion_ry)\n",
    "\n",
    "\n",
    "# def coulomb()\n",
    "#     return ((k * (q) * (+Z * q)) / (np.linalg.norm(dr_x))**2) #* (dr_x/np.linalg.norm(dr_x))\n",
    "\n",
    "#* ((np.sqrt((rx-Ion_rx)**2+(ry-Ion_ry)**2))\n",
    "\n",
    "# def coulomb_y(rx, ry, q, k):\n",
    "#     # Write out the colomb force energy equation\n",
    "#     return ((k * (-q) * (+Z * q)) /  ((ry-Ion_ry)**2)) #/np.sqrt(rx**2+ry**2)\n",
    "\n",
    "\n",
    "# def coulomb_sim(rx, ry, q, k):\n",
    "#     return np.sqrt(coulomb_x.value**2+coulomb_y.value**2) #/np.abs(coulomb_x**2+coulomb_y**2)\n",
    "\n",
    "\n",
    "\n",
    "# def coulomb_sim(ry, rx, q, vy, vx, k):\n",
    "#     return magforce/np.abs(coulomb_x**2+coulomb_y**2)\n",
    " \n",
    "# def coulomb_sim(ry, rx, q, vy, vx, k):\n",
    "#     return magforce/np.abs(colomb_x**2+colomb_y**2)\n",
    "\n",
    "\n",
    "# def coulomb_sim(ry, rx, q, vy, vx, k):\n",
    "#     return magforce/np.sqrt(rx**2+ry**2)\n"
   ]
  },
  {
   "cell_type": "markdown",
   "metadata": {},
   "source": [
    "## Estimate iterations"
   ]
  },
  {
   "cell_type": "code",
   "execution_count": 84,
   "metadata": {},
   "outputs": [],
   "source": [
    "N = 10000"
   ]
  },
  {
   "cell_type": "markdown",
   "metadata": {},
   "source": [
    "## Create empty arrays that will store all the variables that you need like position(r), velocity(v), and accleration(a)"
   ]
  },
  {
   "cell_type": "code",
   "execution_count": 85,
   "metadata": {},
   "outputs": [],
   "source": [
    "# The reason we are making these arrays is because we need to run these through a loop, \n",
    "# and in a loop we have to define the variables that we are looping through beforehand\n",
    "\n",
    "#Have to make 2-d arrays with (2,2) to store both x and y positions with an intial \n",
    "# guess for the amount of times we are gonna iterate through the loop we will make\n",
    "r = np.zeros([N,2])\n",
    "v = np.zeros([N,2])\n",
    "a = np.zeros([N,2])\n",
    "\n",
    "# ry = np.zeros([N])\n",
    "# vy = np.zeros([N])\n",
    "# ay = np.zeros([N])\n"
   ]
  },
  {
   "cell_type": "markdown",
   "metadata": {},
   "source": [
    "## Define the constants k, initial postition (r0), initial velocity (v0), and the mass of the electron (me) with what is given in the problem "
   ]
  },
  {
   "cell_type": "code",
   "execution_count": 118,
   "metadata": {},
   "outputs": [],
   "source": [
    "k = 1 #/ (4 * np.pi * const.eps0) # Coulomb Constant\n",
    "\n",
    "#CGS is no k \n",
    "\n",
    "Z = 100 # Z is the charged ion since there is no specifications we can just use Z = 1\n",
    "q = 4.8032*10**(-10)\n",
    "me = 9.1094*10**(-28)\n",
    "a0 = 5.2917721067 * 10**(-9)\n",
    "\n",
    "\n",
    "# #X-Component of the electron\n",
    "# rx0 = -500 * a0 #Initial Radius away from ion\n",
    "# rx[0] = rx0 #This will be the first indice \n",
    "# vx0 = 1/1000*const.c.value#* u.cm/u.s # 10^7 cm/s but change to m/s because all the other constants are in m\n",
    "# vx[0] = vx0\n",
    "\n",
    "# # #Y-Component of the electron\n",
    "# ry0 = 200 * a0 #Initial Radius away from ion\n",
    "# ry[0] = ry0 # This will be the first indice \n",
    "# vy0 = 0 # 10^7 cm/s but change to m/s because all the other constants are in m\n",
    "# vy[0] = vy0\n",
    "\n",
    "\n",
    "r0 = [-500,300]\n",
    "v0 = [10**(4),0]\n",
    "\n",
    "r[0] = r0\n",
    "v[0] = v0\n"
   ]
  },
  {
   "cell_type": "markdown",
   "metadata": {},
   "source": [
    "## Estimate Timestep"
   ]
  },
  {
   "cell_type": "code",
   "execution_count": 119,
   "metadata": {},
   "outputs": [],
   "source": [
    "#### We will make a estimate of the timestep that we will use for the simulation\n",
    "dt = 10**(-4)"
   ]
  },
  {
   "cell_type": "code",
   "execution_count": 120,
   "metadata": {},
   "outputs": [],
   "source": [
    "#Use .value when plotting"
   ]
  },
  {
   "cell_type": "markdown",
   "metadata": {},
   "source": [
    "## Create a Loop For The  Simulation"
   ]
  },
  {
   "cell_type": "code",
   "execution_count": 121,
   "metadata": {
    "scrolled": true
   },
   "outputs": [],
   "source": [
    "\n",
    "## In this loop we have to run through the time steps and \n",
    "for i in range(N):\n",
    "#     vx[i] = ((const.e.esu)/(np.sqrt(4*np.pi*const.eps0*const.a0*me))).value\n",
    "#     vy[i] = ((const.e.esu)/(np.sqrt(4*np.pi*const.eps0*const.a0*me))).value\n",
    "    #X-components of the acceleration   \n",
    "    \n",
    "#     mag_r = np.sqrt(np.square(rx[i]) + np.square(ry[i]))\n",
    "#     #r_hat = position vector / magnitude of the position vector\n",
    "#     Fc_vec = (((q) * (+Z*q)) / ((mag_r)**2))\n",
    "#     #print('This is Fc',Fc_vec)\n",
    "#     #print('This is mag_r',mag_r)\n",
    "# #     Fc_vec * (rx_i/mag_r)\n",
    "    \n",
    "    a[i] = ((k * -q * (Z*q)) / (me * np.linalg.norm(r[i])**3)) * r[i]\n",
    "    #ay[i] = (Fc_vec * (ry[i]/mag_r))/me\n",
    "    #print(axy)\n",
    "    if i == N-1:\n",
    "        break\n",
    "    v[i+1] = v[i] + a[i] * dt\n",
    "    #vy[i+1] = vy[i] + ay[i] * dt\n",
    "    \n",
    "    r[i+1] = r[i] + v[i] * dt + ((1.0 / 2.0) * a[i] * dt ** 2.0)\n",
    "    #ry[i+1] = ry[i] + vy[i] * dt + ((1.0 / 2.0) * ay[i] * dt ** 2.0)\n",
    "    \n",
    "#     ax[i+1] = coulomb_x(rx[i+1], ry[i+1], q.value, k.value)/ me.value\n",
    "#     ay[i+1] = coulomb_y(rx[i+1], ry[i+1], q.value, k.value)/ me.value\n",
    "#     mag_r[i+1] = np.sqrt(rx[i+1]**2+ry[i+1]**2)\n",
    "    "
   ]
  },
  {
   "cell_type": "code",
   "execution_count": 122,
   "metadata": {},
   "outputs": [],
   "source": [
    "rx = r[:,0]\n",
    "ry = r[:,1]\n",
    "vx = v[:,0]\n",
    "vy = v[:,1]\n",
    "ax = a[:,0]\n",
    "ay = a[:,1]"
   ]
  },
  {
   "cell_type": "code",
   "execution_count": 123,
   "metadata": {},
   "outputs": [
    {
     "data": {
      "text/plain": [
       "(-500.0, 300.0)"
      ]
     },
     "execution_count": 123,
     "metadata": {},
     "output_type": "execute_result"
    }
   ],
   "source": [
    "rx[0], ry[0]\n"
   ]
  },
  {
   "cell_type": "code",
   "execution_count": 124,
   "metadata": {},
   "outputs": [
    {
     "data": {
      "text/plain": [
       "4.803200000000001e-10"
      ]
     },
     "execution_count": 124,
     "metadata": {},
     "output_type": "execute_result"
    }
   ],
   "source": [
    "q"
   ]
  },
  {
   "cell_type": "code",
   "execution_count": 16,
   "metadata": {},
   "outputs": [
    {
     "ename": "NameError",
     "evalue": "name 'coulomb_x' is not defined",
     "output_type": "error",
     "traceback": [
      "\u001b[0;31m---------------------------------------------------------------------------\u001b[0m",
      "\u001b[0;31mNameError\u001b[0m                                 Traceback (most recent call last)",
      "\u001b[0;32m/var/folders/hb/2k3dc2q970j6kglh41009phr0000gn/T/ipykernel_98270/1963012677.py\u001b[0m in \u001b[0;36m<module>\u001b[0;34m\u001b[0m\n\u001b[0;32m----> 1\u001b[0;31m \u001b[0mcoulomb_x\u001b[0m\u001b[0;34m(\u001b[0m\u001b[0mrx\u001b[0m\u001b[0;34m[\u001b[0m\u001b[0;36m0\u001b[0m\u001b[0;34m]\u001b[0m\u001b[0;34m,\u001b[0m \u001b[0mry\u001b[0m\u001b[0;34m[\u001b[0m\u001b[0;36m0\u001b[0m\u001b[0;34m]\u001b[0m\u001b[0;34m,\u001b[0m \u001b[0mq\u001b[0m\u001b[0;34m)\u001b[0m\u001b[0;34m/\u001b[0m\u001b[0mme\u001b[0m\u001b[0;34m\u001b[0m\u001b[0;34m\u001b[0m\u001b[0m\n\u001b[0m",
      "\u001b[0;31mNameError\u001b[0m: name 'coulomb_x' is not defined"
     ]
    }
   ],
   "source": [
    "coulomb_x(rx[0], ry[0], q)/me\n"
   ]
  },
  {
   "cell_type": "code",
   "execution_count": 145,
   "metadata": {},
   "outputs": [
    {
     "data": {
      "text/plain": [
       "-2.8956249524361065e+21"
      ]
     },
     "execution_count": 145,
     "metadata": {},
     "output_type": "execute_result"
    }
   ],
   "source": [
    "r_mag = np.sqrt(rx[0]**2 + ry[0]**2)\n",
    "\n",
    "q*q*Z / r_mag**3 * rx[0] / me"
   ]
  },
  {
   "cell_type": "code",
   "execution_count": 146,
   "metadata": {},
   "outputs": [
    {
     "data": {
      "text/plain": [
       "1.1582499809744423e+21"
      ]
     },
     "execution_count": 146,
     "metadata": {},
     "output_type": "execute_result"
    }
   ],
   "source": [
    "coulomb_y(rx[0], ry[0], q)/me"
   ]
  },
  {
   "cell_type": "code",
   "execution_count": 147,
   "metadata": {},
   "outputs": [
    {
     "name": "stdout",
     "output_type": "stream",
     "text": [
      "[-2.89562495e+21 -9.67074552e-17 -1.07452728e-17 ... -2.41937965e-25\n",
      " -2.41889568e-25 -2.41841185e-25]\n"
     ]
    }
   ],
   "source": [
    "print(ax)"
   ]
  },
  {
   "cell_type": "code",
   "execution_count": 148,
   "metadata": {},
   "outputs": [
    {
     "name": "stdout",
     "output_type": "stream",
     "text": [
      "[1.15824998e+21 3.86829821e-17 4.29810912e-18 ... 9.67751860e-26\n",
      " 9.67558270e-26 9.67364739e-26]\n"
     ]
    }
   ],
   "source": [
    "print(ay)"
   ]
  },
  {
   "cell_type": "code",
   "execution_count": 149,
   "metadata": {
    "scrolled": true
   },
   "outputs": [
    {
     "name": "stdout",
     "output_type": "stream",
     "text": [
      "[1.05835442e-06 5.79124990e+12 1.73737497e+13 ... 1.15784459e+17\n",
      " 1.15796042e+17 1.15807624e+17]\n"
     ]
    }
   ],
   "source": [
    "print(ry)"
   ]
  },
  {
   "cell_type": "code",
   "execution_count": 150,
   "metadata": {
    "scrolled": true
   },
   "outputs": [
    {
     "name": "stdout",
     "output_type": "stream",
     "text": [
      "[-2.64588605e-06 -1.44781248e+13 -4.34343743e+13 ... -2.89461148e+17\n",
      " -2.89490105e+17 -2.89519061e+17]\n"
     ]
    }
   ],
   "source": [
    "print(rx)"
   ]
  },
  {
   "cell_type": "code",
   "execution_count": 151,
   "metadata": {
    "scrolled": false
   },
   "outputs": [
    {
     "name": "stdout",
     "output_type": "stream",
     "text": [
      "[ 2.99792458e+05 -2.89562495e+17 -2.89562495e+17 ... -2.89562495e+17\n",
      " -2.89562495e+17 -2.89562495e+17]\n"
     ]
    }
   ],
   "source": [
    "print(vx)"
   ]
  },
  {
   "cell_type": "code",
   "execution_count": 152,
   "metadata": {},
   "outputs": [
    {
     "name": "stdout",
     "output_type": "stream",
     "text": [
      "5.29177210903e-11\n"
     ]
    }
   ],
   "source": [
    "print(const.a0.value)"
   ]
  },
  {
   "cell_type": "code",
   "execution_count": null,
   "metadata": {},
   "outputs": [],
   "source": []
  },
  {
   "cell_type": "code",
   "execution_count": 125,
   "metadata": {
    "scrolled": false
   },
   "outputs": [
    {
     "data": {
      "image/png": "[encoded data removed]",
      "text/plain": [
       "<Figure size 640x480 with 1 Axes>"
      ]
     },
     "metadata": {},
     "output_type": "display_data"
    }
   ],
   "source": [
    "plt.plot(rx, ry, ls=\"--\")#, marker='o')\n",
    "# limup = 1000*const.a0.value\n",
    "# plt.ylim(-5000*const.a0.value,limup)\n",
    "# plt.xlim(-5000*const.a0.value,limup)\n",
    "plt.scatter(0, 0, c='magenta')\n",
    "# plt.xlim(-1*const.a0.value, 1*const.a0.value)\n",
    "# plt.ylim(-1*const.a0.value, 1*const.a0.value)\n",
    "\n",
    "plt.show()"
   ]
  },
  {
   "cell_type": "code",
   "execution_count": 83,
   "metadata": {},
   "outputs": [
    {
     "data": {
      "text/plain": [
       "1.0"
      ]
     },
     "execution_count": 83,
     "metadata": {},
     "output_type": "execute_result"
    }
   ],
   "source": [
    "10**(-4)*10000"
   ]
  },
  {
   "cell_type": "code",
   "execution_count": 82,
   "metadata": {},
   "outputs": [
    {
     "ename": "TypeError",
     "evalue": "'float' object cannot be interpreted as an integer",
     "output_type": "error",
     "traceback": [
      "\u001b[0;31m---------------------------------------------------------------------------\u001b[0m",
      "\u001b[0;31mTypeError\u001b[0m                                 Traceback (most recent call last)",
      "\u001b[0;32m/var/folders/hb/2k3dc2q970j6kglh41009phr0000gn/T/ipykernel_98270/1297781895.py\u001b[0m in \u001b[0;36m<module>\u001b[0;34m\u001b[0m\n\u001b[0;32m----> 1\u001b[0;31m \u001b[0mt\u001b[0m \u001b[0;34m=\u001b[0m \u001b[0mnp\u001b[0m\u001b[0;34m.\u001b[0m\u001b[0mlinspace\u001b[0m\u001b[0;34m(\u001b[0m\u001b[0;36m0\u001b[0m\u001b[0;34m,\u001b[0m \u001b[0;36m0.1\u001b[0m\u001b[0;34m,\u001b[0m \u001b[0;36m10\u001b[0m\u001b[0;34m**\u001b[0m\u001b[0;34m(\u001b[0m\u001b[0;34m-\u001b[0m\u001b[0;36m4\u001b[0m\u001b[0;34m)\u001b[0m\u001b[0;34m)\u001b[0m\u001b[0;34m\u001b[0m\u001b[0;34m\u001b[0m\u001b[0m\n\u001b[0m",
      "\u001b[0;32m<__array_function__ internals>\u001b[0m in \u001b[0;36mlinspace\u001b[0;34m(*args, **kwargs)\u001b[0m\n",
      "\u001b[0;32m~/opt/anaconda3/lib/python3.9/site-packages/numpy/core/function_base.py\u001b[0m in \u001b[0;36mlinspace\u001b[0;34m(start, stop, num, endpoint, retstep, dtype, axis)\u001b[0m\n\u001b[1;32m    118\u001b[0m \u001b[0;34m\u001b[0m\u001b[0m\n\u001b[1;32m    119\u001b[0m     \"\"\"\n\u001b[0;32m--> 120\u001b[0;31m     \u001b[0mnum\u001b[0m \u001b[0;34m=\u001b[0m \u001b[0moperator\u001b[0m\u001b[0;34m.\u001b[0m\u001b[0mindex\u001b[0m\u001b[0;34m(\u001b[0m\u001b[0mnum\u001b[0m\u001b[0;34m)\u001b[0m\u001b[0;34m\u001b[0m\u001b[0;34m\u001b[0m\u001b[0m\n\u001b[0m\u001b[1;32m    121\u001b[0m     \u001b[0;32mif\u001b[0m \u001b[0mnum\u001b[0m \u001b[0;34m<\u001b[0m \u001b[0;36m0\u001b[0m\u001b[0;34m:\u001b[0m\u001b[0;34m\u001b[0m\u001b[0;34m\u001b[0m\u001b[0m\n\u001b[1;32m    122\u001b[0m         \u001b[0;32mraise\u001b[0m \u001b[0mValueError\u001b[0m\u001b[0;34m(\u001b[0m\u001b[0;34m\"Number of samples, %s, must be non-negative.\"\u001b[0m \u001b[0;34m%\u001b[0m \u001b[0mnum\u001b[0m\u001b[0;34m)\u001b[0m\u001b[0;34m\u001b[0m\u001b[0;34m\u001b[0m\u001b[0m\n",
      "\u001b[0;31mTypeError\u001b[0m: 'float' object cannot be interpreted as an integer"
     ]
    }
   ],
   "source": [
    "t = np.linspace(0, 0.1, num = 10**(-4))"
   ]
  },
  {
   "cell_type": "code",
   "execution_count": 79,
   "metadata": {
    "scrolled": true
   },
   "outputs": [
    {
     "ename": "ValueError",
     "evalue": "x and y must have same first dimension, but have shapes (1000,) and (1,)",
     "output_type": "error",
     "traceback": [
      "\u001b[0;31m---------------------------------------------------------------------------\u001b[0m",
      "\u001b[0;31mValueError\u001b[0m                                Traceback (most recent call last)",
      "\u001b[0;32m/var/folders/hb/2k3dc2q970j6kglh41009phr0000gn/T/ipykernel_98270/3446155658.py\u001b[0m in \u001b[0;36m<module>\u001b[0;34m\u001b[0m\n\u001b[0;32m----> 1\u001b[0;31m \u001b[0mplt\u001b[0m\u001b[0;34m.\u001b[0m\u001b[0mplot\u001b[0m\u001b[0;34m(\u001b[0m\u001b[0mvx\u001b[0m\u001b[0;34m,\u001b[0m \u001b[0mt\u001b[0m\u001b[0;34m,\u001b[0m \u001b[0mls\u001b[0m\u001b[0;34m=\u001b[0m\u001b[0;34m\"--\"\u001b[0m\u001b[0;34m)\u001b[0m\u001b[0;31m#, marker='o')\u001b[0m\u001b[0;34m\u001b[0m\u001b[0;34m\u001b[0m\u001b[0m\n\u001b[0m\u001b[1;32m      2\u001b[0m \u001b[0;31m# limup = 1*const.a0.value\u001b[0m\u001b[0;34m\u001b[0m\u001b[0;34m\u001b[0m\u001b[0m\n\u001b[1;32m      3\u001b[0m \u001b[0;31m# plt.ylim(-1*const.a0.value,limup)\u001b[0m\u001b[0;34m\u001b[0m\u001b[0;34m\u001b[0m\u001b[0m\n\u001b[1;32m      4\u001b[0m \u001b[0;31m# plt.xlim(-1*const.a0.value,limup)\u001b[0m\u001b[0;34m\u001b[0m\u001b[0;34m\u001b[0m\u001b[0m\n\u001b[1;32m      5\u001b[0m \u001b[0mplt\u001b[0m\u001b[0;34m.\u001b[0m\u001b[0mscatter\u001b[0m\u001b[0;34m(\u001b[0m\u001b[0;36m0\u001b[0m\u001b[0;34m,\u001b[0m \u001b[0;36m0\u001b[0m\u001b[0;34m,\u001b[0m \u001b[0mc\u001b[0m\u001b[0;34m=\u001b[0m\u001b[0;34m'magenta'\u001b[0m\u001b[0;34m)\u001b[0m\u001b[0;34m\u001b[0m\u001b[0;34m\u001b[0m\u001b[0m\n",
      "\u001b[0;32m~/opt/anaconda3/lib/python3.9/site-packages/matplotlib/pyplot.py\u001b[0m in \u001b[0;36mplot\u001b[0;34m(scalex, scaley, data, *args, **kwargs)\u001b[0m\n\u001b[1;32m   2767\u001b[0m \u001b[0;34m@\u001b[0m\u001b[0m_copy_docstring_and_deprecators\u001b[0m\u001b[0;34m(\u001b[0m\u001b[0mAxes\u001b[0m\u001b[0;34m.\u001b[0m\u001b[0mplot\u001b[0m\u001b[0;34m)\u001b[0m\u001b[0;34m\u001b[0m\u001b[0;34m\u001b[0m\u001b[0m\n\u001b[1;32m   2768\u001b[0m \u001b[0;32mdef\u001b[0m \u001b[0mplot\u001b[0m\u001b[0;34m(\u001b[0m\u001b[0;34m*\u001b[0m\u001b[0margs\u001b[0m\u001b[0;34m,\u001b[0m \u001b[0mscalex\u001b[0m\u001b[0;34m=\u001b[0m\u001b[0;32mTrue\u001b[0m\u001b[0;34m,\u001b[0m \u001b[0mscaley\u001b[0m\u001b[0;34m=\u001b[0m\u001b[0;32mTrue\u001b[0m\u001b[0;34m,\u001b[0m \u001b[0mdata\u001b[0m\u001b[0;34m=\u001b[0m\u001b[0;32mNone\u001b[0m\u001b[0;34m,\u001b[0m \u001b[0;34m**\u001b[0m\u001b[0mkwargs\u001b[0m\u001b[0;34m)\u001b[0m\u001b[0;34m:\u001b[0m\u001b[0;34m\u001b[0m\u001b[0;34m\u001b[0m\u001b[0m\n\u001b[0;32m-> 2769\u001b[0;31m     return gca().plot(\n\u001b[0m\u001b[1;32m   2770\u001b[0m         \u001b[0;34m*\u001b[0m\u001b[0margs\u001b[0m\u001b[0;34m,\u001b[0m \u001b[0mscalex\u001b[0m\u001b[0;34m=\u001b[0m\u001b[0mscalex\u001b[0m\u001b[0;34m,\u001b[0m \u001b[0mscaley\u001b[0m\u001b[0;34m=\u001b[0m\u001b[0mscaley\u001b[0m\u001b[0;34m,\u001b[0m\u001b[0;34m\u001b[0m\u001b[0;34m\u001b[0m\u001b[0m\n\u001b[1;32m   2771\u001b[0m         **({\"data\": data} if data is not None else {}), **kwargs)\n",
      "\u001b[0;32m~/opt/anaconda3/lib/python3.9/site-packages/matplotlib/axes/_axes.py\u001b[0m in \u001b[0;36mplot\u001b[0;34m(self, scalex, scaley, data, *args, **kwargs)\u001b[0m\n\u001b[1;32m   1630\u001b[0m         \"\"\"\n\u001b[1;32m   1631\u001b[0m         \u001b[0mkwargs\u001b[0m \u001b[0;34m=\u001b[0m \u001b[0mcbook\u001b[0m\u001b[0;34m.\u001b[0m\u001b[0mnormalize_kwargs\u001b[0m\u001b[0;34m(\u001b[0m\u001b[0mkwargs\u001b[0m\u001b[0;34m,\u001b[0m \u001b[0mmlines\u001b[0m\u001b[0;34m.\u001b[0m\u001b[0mLine2D\u001b[0m\u001b[0;34m)\u001b[0m\u001b[0;34m\u001b[0m\u001b[0;34m\u001b[0m\u001b[0m\n\u001b[0;32m-> 1632\u001b[0;31m         \u001b[0mlines\u001b[0m \u001b[0;34m=\u001b[0m \u001b[0;34m[\u001b[0m\u001b[0;34m*\u001b[0m\u001b[0mself\u001b[0m\u001b[0;34m.\u001b[0m\u001b[0m_get_lines\u001b[0m\u001b[0;34m(\u001b[0m\u001b[0;34m*\u001b[0m\u001b[0margs\u001b[0m\u001b[0;34m,\u001b[0m \u001b[0mdata\u001b[0m\u001b[0;34m=\u001b[0m\u001b[0mdata\u001b[0m\u001b[0;34m,\u001b[0m \u001b[0;34m**\u001b[0m\u001b[0mkwargs\u001b[0m\u001b[0;34m)\u001b[0m\u001b[0;34m]\u001b[0m\u001b[0;34m\u001b[0m\u001b[0;34m\u001b[0m\u001b[0m\n\u001b[0m\u001b[1;32m   1633\u001b[0m         \u001b[0;32mfor\u001b[0m \u001b[0mline\u001b[0m \u001b[0;32min\u001b[0m \u001b[0mlines\u001b[0m\u001b[0;34m:\u001b[0m\u001b[0;34m\u001b[0m\u001b[0;34m\u001b[0m\u001b[0m\n\u001b[1;32m   1634\u001b[0m             \u001b[0mself\u001b[0m\u001b[0;34m.\u001b[0m\u001b[0madd_line\u001b[0m\u001b[0;34m(\u001b[0m\u001b[0mline\u001b[0m\u001b[0;34m)\u001b[0m\u001b[0;34m\u001b[0m\u001b[0;34m\u001b[0m\u001b[0m\n",
      "\u001b[0;32m~/opt/anaconda3/lib/python3.9/site-packages/matplotlib/axes/_base.py\u001b[0m in \u001b[0;36m__call__\u001b[0;34m(self, data, *args, **kwargs)\u001b[0m\n\u001b[1;32m    310\u001b[0m                 \u001b[0mthis\u001b[0m \u001b[0;34m+=\u001b[0m \u001b[0margs\u001b[0m\u001b[0;34m[\u001b[0m\u001b[0;36m0\u001b[0m\u001b[0;34m]\u001b[0m\u001b[0;34m,\u001b[0m\u001b[0;34m\u001b[0m\u001b[0;34m\u001b[0m\u001b[0m\n\u001b[1;32m    311\u001b[0m                 \u001b[0margs\u001b[0m \u001b[0;34m=\u001b[0m \u001b[0margs\u001b[0m\u001b[0;34m[\u001b[0m\u001b[0;36m1\u001b[0m\u001b[0;34m:\u001b[0m\u001b[0;34m]\u001b[0m\u001b[0;34m\u001b[0m\u001b[0;34m\u001b[0m\u001b[0m\n\u001b[0;32m--> 312\u001b[0;31m             \u001b[0;32myield\u001b[0m \u001b[0;32mfrom\u001b[0m \u001b[0mself\u001b[0m\u001b[0;34m.\u001b[0m\u001b[0m_plot_args\u001b[0m\u001b[0;34m(\u001b[0m\u001b[0mthis\u001b[0m\u001b[0;34m,\u001b[0m \u001b[0mkwargs\u001b[0m\u001b[0;34m)\u001b[0m\u001b[0;34m\u001b[0m\u001b[0;34m\u001b[0m\u001b[0m\n\u001b[0m\u001b[1;32m    313\u001b[0m \u001b[0;34m\u001b[0m\u001b[0m\n\u001b[1;32m    314\u001b[0m     \u001b[0;32mdef\u001b[0m \u001b[0mget_next_color\u001b[0m\u001b[0;34m(\u001b[0m\u001b[0mself\u001b[0m\u001b[0;34m)\u001b[0m\u001b[0;34m:\u001b[0m\u001b[0;34m\u001b[0m\u001b[0;34m\u001b[0m\u001b[0m\n",
      "\u001b[0;32m~/opt/anaconda3/lib/python3.9/site-packages/matplotlib/axes/_base.py\u001b[0m in \u001b[0;36m_plot_args\u001b[0;34m(self, tup, kwargs, return_kwargs)\u001b[0m\n\u001b[1;32m    496\u001b[0m \u001b[0;34m\u001b[0m\u001b[0m\n\u001b[1;32m    497\u001b[0m         \u001b[0;32mif\u001b[0m \u001b[0mx\u001b[0m\u001b[0;34m.\u001b[0m\u001b[0mshape\u001b[0m\u001b[0;34m[\u001b[0m\u001b[0;36m0\u001b[0m\u001b[0;34m]\u001b[0m \u001b[0;34m!=\u001b[0m \u001b[0my\u001b[0m\u001b[0;34m.\u001b[0m\u001b[0mshape\u001b[0m\u001b[0;34m[\u001b[0m\u001b[0;36m0\u001b[0m\u001b[0;34m]\u001b[0m\u001b[0;34m:\u001b[0m\u001b[0;34m\u001b[0m\u001b[0;34m\u001b[0m\u001b[0m\n\u001b[0;32m--> 498\u001b[0;31m             raise ValueError(f\"x and y must have same first dimension, but \"\n\u001b[0m\u001b[1;32m    499\u001b[0m                              f\"have shapes {x.shape} and {y.shape}\")\n\u001b[1;32m    500\u001b[0m         \u001b[0;32mif\u001b[0m \u001b[0mx\u001b[0m\u001b[0;34m.\u001b[0m\u001b[0mndim\u001b[0m \u001b[0;34m>\u001b[0m \u001b[0;36m2\u001b[0m \u001b[0;32mor\u001b[0m \u001b[0my\u001b[0m\u001b[0;34m.\u001b[0m\u001b[0mndim\u001b[0m \u001b[0;34m>\u001b[0m \u001b[0;36m2\u001b[0m\u001b[0;34m:\u001b[0m\u001b[0;34m\u001b[0m\u001b[0;34m\u001b[0m\u001b[0m\n",
      "\u001b[0;31mValueError\u001b[0m: x and y must have same first dimension, but have shapes (1000,) and (1,)"
     ]
    },
    {
     "data": {
      "image/png": "[encoded data removed]",
      "text/plain": [
       "<Figure size 640x480 with 1 Axes>"
      ]
     },
     "metadata": {},
     "output_type": "display_data"
    }
   ],
   "source": [
    "plt.plot(vx, t, ls=\"--\")#, marker='o')\n",
    "# limup = 1*const.a0.value\n",
    "# plt.ylim(-1*const.a0.value,limup)\n",
    "# plt.xlim(-1*const.a0.value,limup)\n",
    "plt.scatter(0, 0, c='magenta')\n",
    "# plt.xlim(-1*const.a0.value, 1*const.a0.value)\n",
    "# plt.ylim(-1*const.a0.value, 1*const.a0.value)\n",
    "\n",
    "plt.show()"
   ]
  },
  {
   "cell_type": "code",
   "execution_count": 21,
   "metadata": {},
   "outputs": [],
   "source": [
    "#plt.plot(100000, vx, ls=\"--\")\n",
    "# limup = 1000*const.a0.value\n",
    "# plt.ylim(-1000*const.a0.value,limup)\n",
    "# plt.xlim(-1000*const.a0.value,limup)\n",
    "plt.show()"
   ]
  },
  {
   "cell_type": "code",
   "execution_count": 22,
   "metadata": {},
   "outputs": [],
   "source": [
    "\n",
    "current_positions = [-2,2] #positions of the particles\n",
    "current_forces = [0,0] #starting forces on the particles\n",
    "velocities = [0,0]\n",
    "forces = [0,0]\n",
    "mass = [1,1]\n",
    "\n",
    "new_positions = [0,0]\n",
    "new_forces = [0,0]\n",
    "\n",
    "save_positions = []\n",
    "\n",
    "iterations = 1000\n",
    "timestep = 0.005\n",
    "\n",
    "\n",
    "for i in range(iterations):\n",
    "\n",
    "  #Save the current positions\n",
    "  save_positions.append(current_positions.copy())\n",
    "\n",
    "  #Update the positions\n",
    "  for j in range(len(current_positions)):\n",
    "    new_positions[j] = current_positions[j] + velocities[j]*timestep + (forces[j]/ (2*mass[j]) )*(timestep**2)\n",
    "\n",
    "\n",
    "  #Find the total force on each particle\n",
    "  for j in range(len(current_positions)):\n",
    "\n",
    "    new_forces[j]=0\n",
    "\n",
    "    for k in range(len(current_positions)):\n",
    "      if j==k:\n",
    "        continue\n",
    "\n",
    "      distance = current_positions[j]-current_positions[k]\n",
    "      sign = distance /abs(distance)\n",
    "\n",
    "      new_forces[j] = new_forces[j]+10*(abs(distance)-5) * -sign\n",
    "\n",
    "  #Update velocities\n",
    "  for j in range(len(current_positions)):\n",
    "    velocities[j] = velocities[j] + timestep*(forces[j] + new_forces[j])/(2*mass[j])\n",
    "\n",
    "  #Set the force as the new forces\n",
    "  for j in range(len(current_positions)):\n",
    "    forces[j] = new_forces[j]\n",
    "\n",
    "  #Set the new positions\n",
    "  for j in range(len(current_positions)):\n",
    "    current_positions[j]=new_positions[j]\n",
    "\n"
   ]
  },
  {
   "cell_type": "code",
   "execution_count": 23,
   "metadata": {},
   "outputs": [
    {
     "ename": "NameError",
     "evalue": "name 'coulomb_energy' is not defined",
     "output_type": "error",
     "traceback": [
      "\u001b[0;31m---------------------------------------------------------------------------\u001b[0m",
      "\u001b[0;31mNameError\u001b[0m                                 Traceback (most recent call last)",
      "\u001b[0;32m/var/folders/hb/2k3dc2q970j6kglh41009phr0000gn/T/ipykernel_98170/3288784984.py\u001b[0m in \u001b[0;36m<module>\u001b[0;34m\u001b[0m\n\u001b[1;32m     27\u001b[0m plt.plot(r, lj_energy(r, 0.0301, 2.65), \n\u001b[1;32m     28\u001b[0m          label='van der Waals')\n\u001b[0;32m---> 29\u001b[0;31m plt.plot(r, coulomb_energy(1, -1, r), \n\u001b[0m\u001b[1;32m     30\u001b[0m          label='Charged')\n\u001b[1;32m     31\u001b[0m plt.plot(r, lj_energy(\n",
      "\u001b[0;31mNameError\u001b[0m: name 'coulomb_energy' is not defined"
     ]
    },
    {
     "data": {
      "image/png": "[encoded data removed]",
      "text/plain": [
       "<Figure size 640x480 with 1 Axes>"
      ]
     },
     "metadata": {},
     "output_type": "display_data"
    }
   ],
   "source": [
    "def lj_energy(r, epsilon, sigma):\n",
    "    \"\"\"\n",
    "    Implementation of the Lennard-Jones potential \n",
    "    to calculate the energy of the interaction.\n",
    "    \n",
    "    Parameters\n",
    "    ----------\n",
    "    r: float\n",
    "        Distance between two particles (Å)\n",
    "    epsilon: float \n",
    "        Potential energy at the equilibrium bond \n",
    "        length (eV)\n",
    "    sigma: float \n",
    "        Distance at which the potential energy is \n",
    "        zero (Å)\n",
    "    \n",
    "    Returns\n",
    "    -------\n",
    "    float\n",
    "        Energy of the van der Waals interaction (eV)\n",
    "    \"\"\"\n",
    "    return 4 * epsilon * np.power(\n",
    "        sigma / r, 12) - 4 * epsilon * np.power(\n",
    "        sigma / r, 6)\n",
    "\n",
    "r = np.linspace(1.75, 5, 100)\n",
    "plt.plot(r, lj_energy(r, 0.0301, 2.65), \n",
    "         label='van der Waals')\n",
    "plt.plot(r, coulomb_energy(1, -1, r), \n",
    "         label='Charged')\n",
    "plt.plot(r, lj_energy(\n",
    "    r, 0.0301, 2.65) + coulomb_energy(1, -1, r), \n",
    "         label='Total')\n",
    "# plt.xlabel(r'$r$/Å')\n",
    "# plt.ylabel(r'$E$/eV')\n",
    "plt.legend()\n",
    "plt.show()"
   ]
  },
  {
   "cell_type": "code",
   "execution_count": null,
   "metadata": {},
   "outputs": [],
   "source": []
  }
 ],
 "metadata": {
  "kernelspec": {
   "display_name": "Python 3 (ipykernel)",
   "language": "python",
   "name": "python3"
  },
  "language_info": {
   "codemirror_mode": {
    "name": "ipython",
    "version": 3
   },
   "file_extension": ".py",
   "mimetype": "text/x-python",
   "name": "python",
   "nbconvert_exporter": "python",
   "pygments_lexer": "ipython3",
   "version": "3.9.13"
  },
  "toc": {
   "base_numbering": 1,
   "nav_menu": {},
   "number_sections": true,
   "sideBar": true,
   "skip_h1_title": false,
   "title_cell": "Table of Contents",
   "title_sidebar": "Contents",
   "toc_cell": true,
   "toc_position": {},
   "toc_section_display": true,
   "toc_window_display": true
  }
 },
 "nbformat": 4,
 "nbformat_minor": 2
}
